{
 "cells": [
  {
   "cell_type": "code",
   "execution_count": 1,
   "metadata": {},
   "outputs": [],
   "source": [
    "import pandas as pd\n",
    "import numpy as np"
   ]
  },
  {
   "cell_type": "code",
   "execution_count": 2,
   "metadata": {},
   "outputs": [],
   "source": [
    "X = np.array([[1, -3.1, -7.2, 2.1]])"
   ]
  },
  {
   "cell_type": "markdown",
   "metadata": {},
   "source": [
    "A linaear (lin_reg1) regression function\n",
    "\n",
    "an activation function that takes as parameter a variable x and returns x if x is positive and 0 otherwise. We call it Relu.\n",
    "\n",
    "Compute y according to the previous diagram and name the out_1 \n"
   ]
  },
  {
   "cell_type": "code",
   "execution_count": 3,
   "metadata": {},
   "outputs": [],
   "source": [
    "def lin_reg1(X,W,b):\n",
    "    a = X.dot(W.transpose()) + b\n",
    "    return a\n",
    "\n",
    "def activation(X):\n",
    "    if (X > 0): return X\n",
    "    return 0\n",
    "\n",
    "def linreg_next_layer(X,W,b):\n",
    "    a = X.dot(W.transpose()) + b\n",
    "    return a\n",
    "\n",
    "def activation_next_layer(X):\n",
    "    return 1/(1 + np.exp(-x))"
   ]
  },
  {
   "cell_type": "code",
   "execution_count": 4,
   "metadata": {},
   "outputs": [],
   "source": [
    "W = np.array([[2.1, 1.2, 0.3, 1.3 ]]); b = -3\n",
    "out_1 = lin_reg1(X,W,b)\n",
    "out_1 = activation(out_1)\n",
    "\n",
    "W2 = np.array([[0.1, 1.2, 4.9, 3.1]]); b2 = -5\n",
    "linreg_2 = lin_reg1(X,W2,b2)\n",
    "linreg_2 = activation(linreg_2)\n",
    "\n",
    "W3 = np.array([[0.4, 2.6, 2.5, 3.8]]); b3 = -8\n",
    "linreg_3 = lin_reg1(X,W3,b3)\n",
    "linreg_3 = activation(linreg_3)"
   ]
  },
  {
   "cell_type": "code",
   "execution_count": 5,
   "metadata": {},
   "outputs": [
    {
     "data": {
      "text/plain": [
       "array([[0, 0, 0]])"
      ]
     },
     "execution_count": 5,
     "metadata": {},
     "output_type": "execute_result"
    }
   ],
   "source": [
    "X2=np.array([[out_1,linreg_2,linreg_3]])\n",
    "X2"
   ]
  }
 ],
 "metadata": {
  "interpreter": {
   "hash": "7203da5bcfacc068ec899e1c88086a6bff58bb81c38c2af1e027ec3ee4e63b80"
  },
  "kernelspec": {
   "display_name": "Python 3.9.7 64-bit (windows store)",
   "language": "python",
   "name": "python3"
  },
  "language_info": {
   "codemirror_mode": {
    "name": "ipython",
    "version": 3
   },
   "file_extension": ".py",
   "mimetype": "text/x-python",
   "name": "python",
   "nbconvert_exporter": "python",
   "pygments_lexer": "ipython3",
   "version": "3.8.12"
  },
  "orig_nbformat": 4
 },
 "nbformat": 4,
 "nbformat_minor": 2
}
