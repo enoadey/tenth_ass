{
 "cells": [
  {
   "cell_type": "code",
   "execution_count": 1,
   "metadata": {},
   "outputs": [],
   "source": [
    "import pandas as pd\n",
    "import numpy as np"
   ]
  },
  {
   "cell_type": "code",
   "execution_count": 2,
   "metadata": {},
   "outputs": [],
   "source": [
    "X = np.array([[1.0],[-3.1],[-7.2], [2.1]])"
   ]
  },
  {
   "cell_type": "code",
   "execution_count": 3,
   "metadata": {},
   "outputs": [
    {
     "name": "stdout",
     "output_type": "stream",
     "text": [
      "Input in matrix form:\n",
      " [[ 1.  -3.1 -7.2  2.1]]\n"
     ]
    }
   ],
   "source": [
    "#converting the input in matrix form\n",
    "X = X.T\n",
    "print(\"Input in matrix form:\\n\", X)"
   ]
  },
  {
   "cell_type": "code",
   "execution_count": 4,
   "metadata": {},
   "outputs": [
    {
     "data": {
      "text/plain": [
       "array([[2.1],\n",
       "       [1.2],\n",
       "       [0.3],\n",
       "       [1.3]])"
      ]
     },
     "execution_count": 4,
     "metadata": {},
     "output_type": "execute_result"
    }
   ],
   "source": [
    "#assign weights\n",
    "w = np.array([[2.1], [1.2], [0.3], [1.3]])\n",
    "w"
   ]
  },
  {
   "cell_type": "code",
   "execution_count": 5,
   "metadata": {},
   "outputs": [],
   "source": [
    "#add bias\n",
    "b = -3"
   ]
  },
  {
   "cell_type": "code",
   "execution_count": 14,
   "metadata": {},
   "outputs": [],
   "source": [
    "def linear_function(x, Derivative=False):\n",
    "    if not Derivative:\n",
    "        # Return the partial derivation of the activation function\n",
    "        return x\n",
    "    else:\n",
    "        # Return the activation signal \n",
    "        return 1.0"
   ]
  },
  {
   "cell_type": "code",
   "execution_count": 11,
   "metadata": {},
   "outputs": [],
   "source": [
    "#updating weight\n",
    "def make_prediction(X, w, b):\n",
    "\n",
    "    weighted_sum = np.dot(X, w) + b\n",
    "    first_output = linear_function(weighted_sum)\n",
    "    return first_output"
   ]
  },
  {
   "cell_type": "code",
   "execution_count": 12,
   "metadata": {},
   "outputs": [],
   "source": [
    "prediction = make_prediction(X, w, b)"
   ]
  },
  {
   "cell_type": "code",
   "execution_count": 13,
   "metadata": {},
   "outputs": [
    {
     "name": "stdout",
     "output_type": "stream",
     "text": [
      "The prediction result is: [[-4.05]]\n"
     ]
    }
   ],
   "source": [
    " print(f\"The prediction result is: {prediction}\")"
   ]
  },
  {
   "cell_type": "code",
   "execution_count": 16,
   "metadata": {},
   "outputs": [],
   "source": [
    "def relu(x, Derivative=False):\n",
    "    if not Derivative:\n",
    "        return np.maximum(0,x)\n",
    "    else:\n",
    "        out = np.ones(x.shape)\n",
    "        out[(x < 0)]=0\n",
    "        return out\n"
   ]
  },
  {
   "cell_type": "code",
   "execution_count": 17,
   "metadata": {},
   "outputs": [],
   "source": [
    "#updating weight\n",
    "def make_pred(X, w, b):\n",
    "\n",
    "    weighted_sum = np.dot(X, w) + b\n",
    "    out_1 = relu(weighted_sum)\n",
    "    return out_1"
   ]
  },
  {
   "cell_type": "code",
   "execution_count": 18,
   "metadata": {},
   "outputs": [],
   "source": [
    "out_1 = make_pred(X, w, b)"
   ]
  },
  {
   "cell_type": "code",
   "execution_count": 19,
   "metadata": {},
   "outputs": [
    {
     "name": "stdout",
     "output_type": "stream",
     "text": [
      "The prediction result is: [[0.]]\n"
     ]
    }
   ],
   "source": [
    "print(f\"The prediction result is: {out_1}\")"
   ]
  },
  {
   "cell_type": "code",
   "execution_count": 20,
   "metadata": {},
   "outputs": [],
   "source": [
    "def linear_function2(x, Derivative=False):\n",
    "    if not Derivative:\n",
    "        # Return the partial derivation of the activation function\n",
    "        return x\n",
    "    else:\n",
    "        # Return the activation signal \n",
    "        return 1.0"
   ]
  },
  {
   "cell_type": "code",
   "execution_count": 21,
   "metadata": {},
   "outputs": [
    {
     "data": {
      "text/plain": [
       "array([[0.1],\n",
       "       [1.2],\n",
       "       [4.9],\n",
       "       [3.1]])"
      ]
     },
     "execution_count": 21,
     "metadata": {},
     "output_type": "execute_result"
    }
   ],
   "source": [
    "#assign weights\n",
    "w2 = np.array([[0.1], [1.2], [4.9], [3.1]])\n",
    "w2"
   ]
  },
  {
   "cell_type": "code",
   "execution_count": 34,
   "metadata": {},
   "outputs": [],
   "source": [
    "#add bias\n",
    "b2 = -5"
   ]
  },
  {
   "cell_type": "code",
   "execution_count": 57,
   "metadata": {},
   "outputs": [],
   "source": [
    "#updating weight\n",
    "def make_prediction1(X, w2, b2):\n",
    "\n",
    "    weighted_sum = np.dot(X, w2) + b2\n",
    "    first_output = linear_function2(weighted_sum)\n",
    "    return first_output"
   ]
  },
  {
   "cell_type": "code",
   "execution_count": 58,
   "metadata": {},
   "outputs": [],
   "source": [
    "prediction = make_prediction1(X, w2, b2)"
   ]
  },
  {
   "cell_type": "code",
   "execution_count": 59,
   "metadata": {},
   "outputs": [],
   "source": [
    "out_2 = make_prediction1(X, w2, b2)"
   ]
  },
  {
   "cell_type": "code",
   "execution_count": 60,
   "metadata": {},
   "outputs": [
    {
     "name": "stdout",
     "output_type": "stream",
     "text": [
      "The prediction result is: [[-37.39]]\n"
     ]
    }
   ],
   "source": [
    "print(f\"The prediction result is: {out_2}\")"
   ]
  },
  {
   "cell_type": "code",
   "execution_count": 61,
   "metadata": {},
   "outputs": [],
   "source": [
    "out_21 = make_pred(X, w2, b2)"
   ]
  },
  {
   "cell_type": "code",
   "execution_count": 62,
   "metadata": {},
   "outputs": [
    {
     "name": "stdout",
     "output_type": "stream",
     "text": [
      "The prediction result is: [[0.]]\n"
     ]
    }
   ],
   "source": [
    "print(f\"The prediction result is: {out_21}\")"
   ]
  },
  {
   "cell_type": "code",
   "execution_count": 31,
   "metadata": {},
   "outputs": [
    {
     "data": {
      "text/plain": [
       "array([[0.4],\n",
       "       [2.6],\n",
       "       [2.5],\n",
       "       [3.8]])"
      ]
     },
     "execution_count": 31,
     "metadata": {},
     "output_type": "execute_result"
    }
   ],
   "source": [
    "#assign weights\n",
    "w3 = np.array([[0.4], [2.6], [2.5], [3.8]])\n",
    "w3"
   ]
  },
  {
   "cell_type": "code",
   "execution_count": 32,
   "metadata": {},
   "outputs": [],
   "source": [
    "#add bias\n",
    "b3 = -8"
   ]
  },
  {
   "cell_type": "code",
   "execution_count": 33,
   "metadata": {},
   "outputs": [],
   "source": [
    "def linear_function3(x, Derivative=False):\n",
    "    if not Derivative:\n",
    "        # Return the partial derivation of the activation function\n",
    "        return x\n",
    "    else:\n",
    "        # Return the activation signal \n",
    "        return 1.0"
   ]
  },
  {
   "cell_type": "code",
   "execution_count": 63,
   "metadata": {},
   "outputs": [],
   "source": [
    "#updating weight\n",
    "def make_prediction2(X, w3, b3):\n",
    "\n",
    "    weighted_sum = np.dot(X, w3) + b3\n",
    "    first_output7 = linear_function3(weighted_sum)\n",
    "    return first_output7"
   ]
  },
  {
   "cell_type": "code",
   "execution_count": 64,
   "metadata": {},
   "outputs": [],
   "source": [
    "out_7 = make_prediction2(X, w3, b3)"
   ]
  },
  {
   "cell_type": "code",
   "execution_count": 65,
   "metadata": {},
   "outputs": [
    {
     "name": "stdout",
     "output_type": "stream",
     "text": [
      "The prediction result is: [[-25.68]]\n"
     ]
    }
   ],
   "source": [
    "print(f\"The prediction result is: {out_7}\")"
   ]
  },
  {
   "cell_type": "code",
   "execution_count": 66,
   "metadata": {},
   "outputs": [],
   "source": [
    "out_212 = make_pred(X, w3, b3)"
   ]
  },
  {
   "cell_type": "code",
   "execution_count": 67,
   "metadata": {},
   "outputs": [
    {
     "name": "stdout",
     "output_type": "stream",
     "text": [
      "The prediction result is: [[0.]]\n"
     ]
    }
   ],
   "source": [
    "print(f\"The prediction result is: {out_212}\")"
   ]
  },
  {
   "cell_type": "markdown",
   "metadata": {},
   "source": [
    "4"
   ]
  },
  {
   "cell_type": "code",
   "execution_count": 78,
   "metadata": {},
   "outputs": [],
   "source": [
    "w6 = [1.1, -4.1, 0.7]\n",
    "b6 = 5.1\n",
    "X6 = np.array([[0],[0],[0]])"
   ]
  },
  {
   "cell_type": "code",
   "execution_count": 79,
   "metadata": {},
   "outputs": [
    {
     "name": "stdout",
     "output_type": "stream",
     "text": [
      "Input in matrix form:\n",
      " [array([[0.]]), array([[0.]]), array([[0.]])]\n"
     ]
    }
   ],
   "source": [
    "#converting the input in matrix form\n",
    "X6 = X6.T\n",
    "print(\"Input in matrix form:\\n\", X)"
   ]
  },
  {
   "cell_type": "code",
   "execution_count": 80,
   "metadata": {},
   "outputs": [],
   "source": [
    "def linear_function4(x, Derivative=False):\n",
    "    if not Derivative:\n",
    "        # Return the partial derivation of the activation function\n",
    "        return x\n",
    "    else:\n",
    "        # Return the activation signal \n",
    "        return 1.0"
   ]
  },
  {
   "cell_type": "code",
   "execution_count": 81,
   "metadata": {},
   "outputs": [],
   "source": [
    "#updating weight\n",
    "def make_prediction6(X6, w6, b6):\n",
    "\n",
    "    weighted_sum = np.dot(X6, w6) + b6\n",
    "    first_output6 = linear_function4(weighted_sum)\n",
    "    return first_output6"
   ]
  },
  {
   "cell_type": "code",
   "execution_count": 82,
   "metadata": {},
   "outputs": [],
   "source": [
    "prediction7 = make_prediction6(X6, w6, b6)"
   ]
  },
  {
   "cell_type": "code",
   "execution_count": 83,
   "metadata": {},
   "outputs": [
    {
     "name": "stdout",
     "output_type": "stream",
     "text": [
      "The prediction result is: [5.1]\n"
     ]
    }
   ],
   "source": [
    " print(f\"The prediction result is: {prediction7}\")"
   ]
  },
  {
   "cell_type": "code",
   "execution_count": 84,
   "metadata": {},
   "outputs": [],
   "source": [
    "def sig(x):\n",
    "        return 1/(1 +np.exp(-x))"
   ]
  },
  {
   "cell_type": "code",
   "execution_count": 85,
   "metadata": {},
   "outputs": [],
   "source": [
    "def der(x):\n",
    "    return sig(x) * (1-sig(x))"
   ]
  },
  {
   "cell_type": "code",
   "execution_count": 86,
   "metadata": {},
   "outputs": [],
   "source": [
    "#updating weight\n",
    "def make_pred1(X6, w6, b6):\n",
    "\n",
    "    weighted_sum = np.dot(X6, w6) + b6\n",
    "    out_18 = sig(weighted_sum)\n",
    "    return out_18"
   ]
  },
  {
   "cell_type": "code",
   "execution_count": 87,
   "metadata": {},
   "outputs": [],
   "source": [
    "out_18 = make_pred1(X6, w6, b6)"
   ]
  },
  {
   "cell_type": "code",
   "execution_count": 88,
   "metadata": {},
   "outputs": [
    {
     "name": "stdout",
     "output_type": "stream",
     "text": [
      "The prediction result is: [0.9939402]\n"
     ]
    }
   ],
   "source": [
    "print(f\"The prediction result is: {out_18}\")"
   ]
  }
 ],
 "metadata": {
  "interpreter": {
   "hash": "aee8b7b246df8f9039afb4144a1f6fd8d2ca17a180786b69acc140d282b71a49"
  },
  "kernelspec": {
   "display_name": "Python 3.10.0 64-bit",
   "language": "python",
   "name": "python3"
  },
  "language_info": {
   "codemirror_mode": {
    "name": "ipython",
    "version": 3
   },
   "file_extension": ".py",
   "mimetype": "text/x-python",
   "name": "python",
   "nbconvert_exporter": "python",
   "pygments_lexer": "ipython3",
   "version": "3.8.12"
  },
  "orig_nbformat": 4
 },
 "nbformat": 4,
 "nbformat_minor": 2
}
