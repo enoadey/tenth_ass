{
 "cells": [
  {
   "cell_type": "markdown",
   "metadata": {},
   "source": [
    "# Mnist classification\n",
    "\n",
    "### Exercise objectives\n",
    "- Implement a CNN architecture with convolution layers\n",
    "- Run a Neural Network on images\n",
    "\n",
    "<hr>\n",
    "<hr>\n",
    "\n",
    "Let's imagine for a moment that you are working for the postal office (and you're in 1970 / 1980). You deal everyday with a enourmous amont of letters, and you want to automate the process of reading the numbers that have been handwritten. This task, called the _Handwriting Recognition_, has been a very complex that has been handled by Bell Labs (among other) where Yann Le Cun used to work, and where such things have been developed : \n",
    "\n",
    "![Number recognition](recognition.gif)\n",
    "\n",
    "\n",
    "The idea is that you have an image (not a video: the animation is here to present what happens with different images) as an input and you try to predict the figure on the image - it corresponds to a classification task, where the output is the class (=figure) the image belongs to, from 0 to 9.\n",
    "\n",
    "This task used to be quite complex back in the time, and still is a benchmark on which a lot of people work. For this reason, the MNIST (for *Modified ou Mixed National Institute of Standards and Technology*) dataset has been created: it corresponds to digit images, from 0 to 9. \n",
    "\n",
    "You goal in this notebook is to build a Convolution Neural Network that can work on such images and predict the corresponding class of each digit image. Keep in mind that this CNN will make you classify hand-written digits, which was a very complex task till the 90's. \n",
    "\n",
    "## The data\n",
    "\n",
    "Keras provides multiple datasets within the Python package. You can load it with the following commands:"
   ]
  },
  {
   "cell_type": "code",
   "execution_count": 1,
   "metadata": {
    "ExecuteTime": {
     "end_time": "2021-04-29T07:22:19.145710Z",
     "start_time": "2021-04-29T07:22:14.174055Z"
    }
   },
   "outputs": [],
   "source": [
    "from tensorflow.keras import datasets\n",
    "\n",
    "(X_train, y_train), (X_test, y_test) = datasets.mnist.load_data(path=\"mnist.npz\")"
   ]
  },
  {
   "cell_type": "markdown",
   "metadata": {},
   "source": [
    "❓ Question ❓ Let's look at some of the data. \n",
    "\n",
    "Select some of the values of the train set and plot them thanks to the `imshow` function from matplotlib with `cmap` set to `gray`(otherwise, the displayed colors are just some arrangement Matplotlib does, which does not exist in practice)."
   ]
  },
  {
   "cell_type": "code",
   "execution_count": 2,
   "metadata": {
    "ExecuteTime": {
     "end_time": "2021-04-29T07:22:19.731522Z",
     "start_time": "2021-04-29T07:22:19.148711Z"
    },
    "tags": [
     "challengify"
    ]
   },
   "outputs": [
    {
     "name": "stdout",
     "output_type": "stream",
     "text": [
      "9\n"
     ]
    },
    {
     "data": {
      "text/plain": [
       "<matplotlib.image.AxesImage at 0x7fcad0d990d0>"
      ]
     },
     "execution_count": 2,
     "metadata": {},
     "output_type": "execute_result"
    },
    {
     "data": {
      "image/png": "[encoded data removed]",
      "text/plain": [
       "<Figure size 432x288 with 1 Axes>"
      ]
     },
     "metadata": {
      "needs_background": "light"
     },
     "output_type": "display_data"
    }
   ],
   "source": [
    "# YOUR CODE HERE\n",
    "import matplotlib.pyplot as plt\n",
    "%matplotlib inline \n",
    "image_index = 7890 # You may select anything up to 60,000\n",
    "print(y_train[image_index]) # The label is 9\n",
    "plt.imshow(X_train[image_index], cmap='gray')"
   ]
  },
  {
   "cell_type": "code",
   "execution_count": 3,
   "metadata": {},
   "outputs": [
    {
     "data": {
      "text/plain": [
       "(60000, 28, 28)"
      ]
     },
     "execution_count": 3,
     "metadata": {},
     "output_type": "execute_result"
    }
   ],
   "source": [
    "X_train.shape"
   ]
  },
  {
   "cell_type": "markdown",
   "metadata": {},
   "source": [
    "Remember that neural networks converge faster when the input data are somehow normalized? It goes similarly for input images. \n",
    "\n",
    "❓ Question ❓ As a first preprocessing step, you should normalize your data. For images, it simply implies to divide your input data by the maximal value, i.e. 255. Don't forget to do it on your train and test data.\n",
    "\n",
    "(N.B.: you can also centered your data, by substracting 0.5 but it is not mandatory). "
   ]
  },
  {
   "cell_type": "code",
   "execution_count": 4,
   "metadata": {
    "ExecuteTime": {
     "end_time": "2021-04-29T07:22:20.043153Z",
     "start_time": "2021-04-29T07:22:19.734478Z"
    },
    "tags": [
     "challengify"
    ]
   },
   "outputs": [],
   "source": [
    "# YOUR CODE HERE\n",
    "\n",
    "# Making sure that the values are float so that we can get decimal points after division\n",
    "X_train = X_train.astype('float32')\n",
    "X_test = X_test.astype('float32')\n",
    "# Normalizing the RGB codes by dividing it to the max RGB value.\n",
    "X_train /= 255\n",
    "X_test /= 255\n"
   ]
  },
  {
   "cell_type": "markdown",
   "metadata": {},
   "source": [
    "❓ Question ❓ What is the shape of your images?"
   ]
  },
  {
   "cell_type": "code",
   "execution_count": 5,
   "metadata": {
    "ExecuteTime": {
     "end_time": "2021-04-29T07:22:20.050056Z",
     "start_time": "2021-04-29T07:22:20.046331Z"
    },
    "tags": [
     "challengify"
    ]
   },
   "outputs": [
    {
     "name": "stdout",
     "output_type": "stream",
     "text": [
      "x_train shape: (60000, 28, 28)\n",
      "shape of images in x_train 60000\n",
      "shape of images in x_test 10000\n"
     ]
    }
   ],
   "source": [
    "# YOUR CODE HERE\n",
    "print('x_train shape:', X_train.shape)\n",
    "print('shape of images in x_train', X_train.shape[0])\n",
    "print('shape of images in x_test', X_test.shape[0])"
   ]
  },
  {
   "cell_type": "markdown",
   "metadata": {},
   "source": [
    "You see that you have 60.000 training images, all of size (28, 28). However, Keras needs images whose last dimension is the number of channels, which is missing here.\n",
    "\n",
    "❓ Question ❓ Use the `expand_dims` to add one dimension at the end of the training and test data. Then, print the shape of X_train and X_test that should respectively be (60000, 28, 28, 1) and (10000, 28, 28, 1)."
   ]
  },
  {
   "cell_type": "code",
   "execution_count": 6,
   "metadata": {
    "ExecuteTime": {
     "end_time": "2021-04-29T07:22:20.063475Z",
     "start_time": "2021-04-29T07:22:20.052948Z"
    }
   },
   "outputs": [
    {
     "name": "stdout",
     "output_type": "stream",
     "text": [
      "x_train shape: (60000, 28, 28, 1)\n",
      "60000 train samples\n",
      "10000 test samples\n"
     ]
    }
   ],
   "source": [
    "import numpy as np\n",
    "# Make sure images have shape (28, 28, 1)\n",
    "X_train = np.expand_dims(X_train, -1)\n",
    "X_test = np.expand_dims(X_test, -1)\n",
    "print(\"x_train shape:\", X_train.shape)\n",
    "print(X_train.shape[0], \"train samples\")\n",
    "print(X_test.shape[0], \"test samples\")\n",
    "\n"
   ]
  },
  {
   "cell_type": "markdown",
   "metadata": {},
   "source": [
    "A last thing to do to prepare your data is to convert your labels to one-hot encoded categories.\n",
    "\n",
    "❓ Question ❓ Use `to_categorical` to transform your labels. Store the results in `y_train_cat` and `y_test_cat`."
   ]
  },
  {
   "cell_type": "code",
   "execution_count": 7,
   "metadata": {
    "ExecuteTime": {
     "end_time": "2021-04-29T07:22:20.845683Z",
     "start_time": "2021-04-29T07:22:20.840921Z"
    }
   },
   "outputs": [],
   "source": [
    "import pandas as pd\n",
    "# YOUR CODE HERE\n",
    "#  valeurs catégoriques\n",
    "y_train_cat  = pd.get_dummies(y_train).values\n",
    "y_test_cat  = pd.get_dummies(y_test).values"
   ]
  },
  {
   "cell_type": "code",
   "execution_count": 8,
   "metadata": {},
   "outputs": [
    {
     "name": "stdout",
     "output_type": "stream",
     "text": [
      "La valeur 5 est encodée vers le vecteur [0 0 0 0 0 1 0 0 0 0]\n",
      "valeur 4 transformée en vecteur: [0 0 0 0 1 0 0 0 0 0]\n"
     ]
    }
   ],
   "source": [
    "print(\"La valeur {} est encodée vers le vecteur {}\".format(y_train[0], y_train_cat[0]))\n",
    "print(\"valeur {} transformée en vecteur: {}\".format(y_train[20], y_train_cat[20]))"
   ]
  },
  {
   "cell_type": "markdown",
   "metadata": {},
   "source": [
    "The data are now ready to be used.\n",
    "\n",
    "## The Convolutional Neural Network _aka_ CNN\n",
    "\n",
    "Now, build a Convolutional Neural Network. \n",
    "\n",
    "❓ Question ❓ Based on the course, build a neural network that has:\n",
    "- a `Conv2D` layer with 8 filters, each of size (4, 4), with an input shape suitable for your task, the relu activation function, and padding='same' so as to \n",
    "- a `MaxPool2D` layer with a pool_size of (2, 2)\n",
    "- a second `Conv2D` layer with 16 filters, each of size (3, 3), and the relu activation function\n",
    "- a second `MaxPool2D` layer with a pool_size of (2, 2)\n",
    "- a `Flatten` layer\n",
    "- a first `Dense` layer with 10 neurons and the relu activation function\n",
    "- a last layer that is suited for your task\n",
    "\n",
    "In the function, do not forget to include the compilation of the model, which optimizes the `categorical_crossentropy` with the adam optimizer - and the accuracy should be among the metrics."
   ]
  },
  {
   "cell_type": "code",
   "execution_count": 13,
   "metadata": {
    "ExecuteTime": {
     "end_time": "2021-04-29T07:22:24.419923Z",
     "start_time": "2021-04-29T07:22:24.415553Z"
    }
   },
   "outputs": [],
   "source": [
    "import tensorflow as tf\n",
    "from tensorflow.keras import layers\n",
    "from tensorflow.keras import models\n",
    "from tensorflow.keras.models import Sequential\n",
    "from tensorflow.keras.layers import Dense, Conv2D, Flatten, MaxPooling2D\n",
    "\n",
    "def initialize_model():\n",
    "    model =Sequential()\n",
    "    ### First convolution & max-pooling\n",
    "    # To complete\n",
    "    model.add(Conv2D(8, (4, 4), activation=\"relu\", padding='Same', input_shape = (28, 28, 1)))\n",
    "    model.add(MaxPooling2D(pool_size=(2, 2))),\n",
    "    ### Second convolution & max-pooling\n",
    "    # To complete\n",
    "    model.add(Conv2D(filters =16, kernel_size=(3, 3), activation=\"relu\"))\n",
    "    model.add(MaxPooling2D(pool_size=(2, 2)))\n",
    "    ### Flattening\n",
    "    # To complete\n",
    "    model.add(Flatten())\n",
    "    ### One fully connected\n",
    "    # To completelayers\n",
    "    model.add(Dense(10, activation='relu'))\n",
    "    ### Last layer (let's say a classification with 10 output)\n",
    "    # To complete\n",
    "    model.add(Dense(10,activation='softmax'))\n",
    "    ### Model compilation\n",
    "    # To complete\n",
    "    model.compile(optimizer='adam', loss='sparse_categorical_crossentropy', metrics=['accuracy'])\n",
    "\n",
    "    return model"
   ]
  },
  {
   "cell_type": "code",
   "execution_count": 14,
   "metadata": {},
   "outputs": [],
   "source": [
    "model = initialize_model();"
   ]
  },
  {
   "cell_type": "markdown",
   "metadata": {},
   "source": [
    "❓ Question ❓ How many trainable parameters are there in your model?\n",
    "- Compute them with `model.summary()` first\n",
    "- Recompute them manually layer per layer then"
   ]
  },
  {
   "cell_type": "code",
   "execution_count": 15,
   "metadata": {
    "ExecuteTime": {
     "end_time": "2021-04-29T07:22:47.154385Z",
     "start_time": "2021-04-29T07:22:47.146231Z"
    },
    "tags": [
     "challengify"
    ]
   },
   "outputs": [
    {
     "name": "stdout",
     "output_type": "stream",
     "text": [
      "Model: \"sequential_1\"\n",
      "_________________________________________________________________\n",
      "Layer (type)                 Output Shape              Param #   \n",
      "=================================================================\n",
      "conv2d_2 (Conv2D)            (None, 28, 28, 8)         136       \n",
      "_________________________________________________________________\n",
      "max_pooling2d_2 (MaxPooling2 (None, 14, 14, 8)         0         \n",
      "_________________________________________________________________\n",
      "conv2d_3 (Conv2D)            (None, 12, 12, 16)        1168      \n",
      "_________________________________________________________________\n",
      "max_pooling2d_3 (MaxPooling2 (None, 6, 6, 16)          0         \n",
      "_________________________________________________________________\n",
      "flatten_1 (Flatten)          (None, 576)               0         \n",
      "_________________________________________________________________\n",
      "dense_2 (Dense)              (None, 10)                5770      \n",
      "_________________________________________________________________\n",
      "dense_3 (Dense)              (None, 10)                110       \n",
      "=================================================================\n",
      "Total params: 7,184\n",
      "Trainable params: 7,184\n",
      "Non-trainable params: 0\n",
      "_________________________________________________________________\n"
     ]
    }
   ],
   "source": [
    "# YOUR CODE HERE:7,184\n",
    "model.summary()"
   ]
  },
  {
   "cell_type": "markdown",
   "metadata": {},
   "source": [
    "❓ Question ❓ Initialize your model and fit it on the train data. \n",
    "- Do not forget to use a validation set and an early stopping criterion. \n",
    "- Limit at 5 epoch max in this challenge (just to save time)"
   ]
  },
  {
   "cell_type": "code",
   "execution_count": 16,
   "metadata": {
    "ExecuteTime": {
     "end_time": "2021-04-29T07:22:50.611532Z",
     "start_time": "2021-04-29T07:22:50.608695Z"
    }
   },
   "outputs": [
    {
     "name": "stdout",
     "output_type": "stream",
     "text": [
      "Epoch 1/5\n",
      "1688/1688 [==============================] - 21s 12ms/step - loss: 0.6745 - accuracy: 0.7866 - val_loss: 0.0913 - val_accuracy: 0.9743\n",
      "WARNING:tensorflow:Early stopping conditioned on metric `mean_squared_error` which is not available. Available metrics are: loss,accuracy,val_loss,val_accuracy\n",
      "Epoch 2/5\n",
      "1688/1688 [==============================] - 23s 14ms/step - loss: 0.1057 - accuracy: 0.9687 - val_loss: 0.0736 - val_accuracy: 0.9793\n",
      "WARNING:tensorflow:Early stopping conditioned on metric `mean_squared_error` which is not available. Available metrics are: loss,accuracy,val_loss,val_accuracy\n",
      "Epoch 3/5\n",
      "1688/1688 [==============================] - 20s 12ms/step - loss: 0.0762 - accuracy: 0.9760 - val_loss: 0.0563 - val_accuracy: 0.9842\n",
      "WARNING:tensorflow:Early stopping conditioned on metric `mean_squared_error` which is not available. Available metrics are: loss,accuracy,val_loss,val_accuracy\n",
      "Epoch 4/5\n",
      "1688/1688 [==============================] - 22s 13ms/step - loss: 0.0672 - accuracy: 0.9796 - val_loss: 0.0536 - val_accuracy: 0.9850\n",
      "WARNING:tensorflow:Early stopping conditioned on metric `mean_squared_error` which is not available. Available metrics are: loss,accuracy,val_loss,val_accuracy\n",
      "Epoch 5/5\n",
      "1688/1688 [==============================] - 21s 13ms/step - loss: 0.0536 - accuracy: 0.9835 - val_loss: 0.0502 - val_accuracy: 0.9880\n",
      "WARNING:tensorflow:Early stopping conditioned on metric `mean_squared_error` which is not available. Available metrics are: loss,accuracy,val_loss,val_accuracy\n"
     ]
    }
   ],
   "source": [
    "from tensorflow.keras.callbacks import EarlyStopping\n",
    "# To complete\n",
    "earlystopping=EarlyStopping(monitor=\"mean_squared_error\", patience=40, verbose=1, mode='auto')\n",
    "epochs = 5\n",
    "output=model.fit(X_train, y_train, epochs=epochs, validation_split=0.1, validation_data=(X_test, y_test), callbacks=[earlystopping])\n"
   ]
  },
  {
   "cell_type": "markdown",
   "metadata": {},
   "source": [
    "You probably see that the model converges within few epochs. The reason is that there are as many weight update as there are batches within each epoch. For instance, if you batch_size is of 32, you have 60.000/32 = 1875 updates.\n",
    "\n",
    "\n",
    "❓ Question ❓ What is your accuracy on the test set?"
   ]
  },
  {
   "cell_type": "code",
   "execution_count": 17,
   "metadata": {
    "ExecuteTime": {
     "end_time": "2021-04-27T15:11:42.884017Z",
     "start_time": "2021-04-27T15:11:42.372506Z"
    },
    "tags": [
     "challengify"
    ]
   },
   "outputs": [
    {
     "name": "stdout",
     "output_type": "stream",
     "text": [
      "Test loss: 0.047437552362680435\n",
      "Test accuracy: 0.9846000075340271\n"
     ]
    }
   ],
   "source": [
    "# YOUR CODE HERE\n",
    "score = model.evaluate(X_test, y_test, verbose=0)\n",
    "print(\"Test loss:\", score[0])\n",
    "print(\"Test accuracy:\", score[1])"
   ]
  },
  {
   "cell_type": "markdown",
   "metadata": {},
   "source": [
    "### You should be already impressed by your skills! You solved what was a very hard problem 30 years ago with your CNN."
   ]
  },
  {
   "cell_type": "markdown",
   "metadata": {},
   "source": [
    "🏁 Congratulation!\n"
   ]
  },
  {
   "cell_type": "code",
   "execution_count": null,
   "metadata": {},
   "outputs": [],
   "source": []
  }
 ],
 "metadata": {
  "kernelspec": {
   "display_name": "Python 3",
   "language": "python",
   "name": "python3"
  },
  "language_info": {
   "codemirror_mode": {
    "name": "ipython",
    "version": 3
   },
   "file_extension": ".py",
   "mimetype": "text/x-python",
   "name": "python",
   "nbconvert_exporter": "python",
   "pygments_lexer": "ipython3",
   "version": "3.8.12"
  },
  "toc": {
   "base_numbering": 1,
   "nav_menu": {},
   "number_sections": false,
   "sideBar": true,
   "skip_h1_title": false,
   "title_cell": "Table of Contents",
   "title_sidebar": "Contents",
   "toc_cell": false,
   "toc_position": {},
   "toc_section_display": true,
   "toc_window_display": false
  }
 },
 "nbformat": 4,
 "nbformat_minor": 2
}
